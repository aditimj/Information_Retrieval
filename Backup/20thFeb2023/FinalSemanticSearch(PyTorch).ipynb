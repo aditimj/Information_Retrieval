{
  "cells": [
    {
      "cell_type": "markdown",
      "metadata": {
        "id": "view-in-github",
        "colab_type": "text"
      },
      "source": [
        "<a href=\"https://colab.research.google.com/github/npmOSU/BloomaloRepo/blob/main/20thFeb2023/FinalSemanticSearch(PyTorch).ipynb\" target=\"_parent\"><img src=\"https://colab.research.google.com/assets/colab-badge.svg\" alt=\"Open In Colab\"/></a>"
      ]
    },
    {
      "cell_type": "markdown",
      "metadata": {
        "id": "gIMTOouYZBM8"
      },
      "source": [
        "# Semantic search with FAISS (PyTorch)"
      ]
    },
    {
      "cell_type": "markdown",
      "metadata": {
        "id": "wxKdsaJPZBM8"
      },
      "source": [
        "Installing necessary libraries for execution"
      ]
    },
    {
      "cell_type": "code",
      "execution_count": 2,
      "metadata": {
        "id": "_7Obw-ujZBM8",
        "outputId": "4dd0b95f-0589-43a2-f85a-4be7f4b4bf89",
        "colab": {
          "base_uri": "https://localhost:8080/"
        }
      },
      "outputs": [
        {
          "output_type": "stream",
          "name": "stdout",
          "text": [
            "Looking in indexes: https://pypi.org/simple, https://us-python.pkg.dev/colab-wheels/public/simple/\n",
            "Collecting datasets\n",
            "  Downloading datasets-2.9.0-py3-none-any.whl (462 kB)\n",
            "\u001b[2K     \u001b[90m━━━━━━━━━━━━━━━━━━━━━━━━━━━━━━━━━━━━━━━\u001b[0m \u001b[32m462.8/462.8 KB\u001b[0m \u001b[31m9.7 MB/s\u001b[0m eta \u001b[36m0:00:00\u001b[0m\n",
            "\u001b[?25hCollecting evaluate\n",
            "  Downloading evaluate-0.4.0-py3-none-any.whl (81 kB)\n",
            "\u001b[2K     \u001b[90m━━━━━━━━━━━━━━━━━━━━━━━━━━━━━━━━━━━━━━━━\u001b[0m \u001b[32m81.4/81.4 KB\u001b[0m \u001b[31m8.8 MB/s\u001b[0m eta \u001b[36m0:00:00\u001b[0m\n",
            "\u001b[?25hCollecting transformers[sentencepiece]\n",
            "  Downloading transformers-4.26.1-py3-none-any.whl (6.3 MB)\n",
            "\u001b[2K     \u001b[90m━━━━━━━━━━━━━━━━━━━━━━━━━━━━━━━━━━━━━━━━\u001b[0m \u001b[32m6.3/6.3 MB\u001b[0m \u001b[31m75.1 MB/s\u001b[0m eta \u001b[36m0:00:00\u001b[0m\n",
            "\u001b[?25hRequirement already satisfied: pyarrow>=6.0.0 in /usr/local/lib/python3.8/dist-packages (from datasets) (9.0.0)\n",
            "Collecting multiprocess\n",
            "  Downloading multiprocess-0.70.14-py38-none-any.whl (132 kB)\n",
            "\u001b[2K     \u001b[90m━━━━━━━━━━━━━━━━━━━━━━━━━━━━━━━━━━━━━━\u001b[0m \u001b[32m132.0/132.0 KB\u001b[0m \u001b[31m13.8 MB/s\u001b[0m eta \u001b[36m0:00:00\u001b[0m\n",
            "\u001b[?25hRequirement already satisfied: pandas in /usr/local/lib/python3.8/dist-packages (from datasets) (1.3.5)\n",
            "Requirement already satisfied: dill<0.3.7 in /usr/local/lib/python3.8/dist-packages (from datasets) (0.3.6)\n",
            "Requirement already satisfied: aiohttp in /usr/local/lib/python3.8/dist-packages (from datasets) (3.8.4)\n",
            "Requirement already satisfied: requests>=2.19.0 in /usr/local/lib/python3.8/dist-packages (from datasets) (2.25.1)\n",
            "Collecting xxhash\n",
            "  Downloading xxhash-3.2.0-cp38-cp38-manylinux_2_17_x86_64.manylinux2014_x86_64.whl (213 kB)\n",
            "\u001b[2K     \u001b[90m━━━━━━━━━━━━━━━━━━━━━━━━━━━━━━━━━━━━━━\u001b[0m \u001b[32m213.0/213.0 KB\u001b[0m \u001b[31m23.7 MB/s\u001b[0m eta \u001b[36m0:00:00\u001b[0m\n",
            "\u001b[?25hCollecting huggingface-hub<1.0.0,>=0.2.0\n",
            "  Downloading huggingface_hub-0.12.1-py3-none-any.whl (190 kB)\n",
            "\u001b[2K     \u001b[90m━━━━━━━━━━━━━━━━━━━━━━━━━━━━━━━━━━━━━━\u001b[0m \u001b[32m190.3/190.3 KB\u001b[0m \u001b[31m20.2 MB/s\u001b[0m eta \u001b[36m0:00:00\u001b[0m\n",
            "\u001b[?25hRequirement already satisfied: packaging in /usr/local/lib/python3.8/dist-packages (from datasets) (23.0)\n",
            "Requirement already satisfied: fsspec[http]>=2021.11.1 in /usr/local/lib/python3.8/dist-packages (from datasets) (2023.1.0)\n",
            "Requirement already satisfied: tqdm>=4.62.1 in /usr/local/lib/python3.8/dist-packages (from datasets) (4.64.1)\n",
            "Collecting responses<0.19\n",
            "  Downloading responses-0.18.0-py3-none-any.whl (38 kB)\n",
            "Requirement already satisfied: numpy>=1.17 in /usr/local/lib/python3.8/dist-packages (from datasets) (1.21.6)\n",
            "Requirement already satisfied: pyyaml>=5.1 in /usr/local/lib/python3.8/dist-packages (from datasets) (6.0)\n",
            "Collecting tokenizers!=0.11.3,<0.14,>=0.11.1\n",
            "  Downloading tokenizers-0.13.2-cp38-cp38-manylinux_2_17_x86_64.manylinux2014_x86_64.whl (7.6 MB)\n",
            "\u001b[2K     \u001b[90m━━━━━━━━━━━━━━━━━━━━━━━━━━━━━━━━━━━━━━━━\u001b[0m \u001b[32m7.6/7.6 MB\u001b[0m \u001b[31m69.5 MB/s\u001b[0m eta \u001b[36m0:00:00\u001b[0m\n",
            "\u001b[?25hRequirement already satisfied: regex!=2019.12.17 in /usr/local/lib/python3.8/dist-packages (from transformers[sentencepiece]) (2022.6.2)\n",
            "Requirement already satisfied: filelock in /usr/local/lib/python3.8/dist-packages (from transformers[sentencepiece]) (3.9.0)\n",
            "Requirement already satisfied: protobuf<=3.20.2 in /usr/local/lib/python3.8/dist-packages (from transformers[sentencepiece]) (3.19.6)\n",
            "Collecting sentencepiece!=0.1.92,>=0.1.91\n",
            "  Downloading sentencepiece-0.1.97-cp38-cp38-manylinux_2_17_x86_64.manylinux2014_x86_64.whl (1.3 MB)\n",
            "\u001b[2K     \u001b[90m━━━━━━━━━━━━━━━━━━━━━━━━━━━━━━━━━━━━━━━━\u001b[0m \u001b[32m1.3/1.3 MB\u001b[0m \u001b[31m51.1 MB/s\u001b[0m eta \u001b[36m0:00:00\u001b[0m\n",
            "\u001b[?25hRequirement already satisfied: async-timeout<5.0,>=4.0.0a3 in /usr/local/lib/python3.8/dist-packages (from aiohttp->datasets) (4.0.2)\n",
            "Requirement already satisfied: multidict<7.0,>=4.5 in /usr/local/lib/python3.8/dist-packages (from aiohttp->datasets) (6.0.4)\n",
            "Requirement already satisfied: attrs>=17.3.0 in /usr/local/lib/python3.8/dist-packages (from aiohttp->datasets) (22.2.0)\n",
            "Requirement already satisfied: yarl<2.0,>=1.0 in /usr/local/lib/python3.8/dist-packages (from aiohttp->datasets) (1.8.2)\n",
            "Requirement already satisfied: charset-normalizer<4.0,>=2.0 in /usr/local/lib/python3.8/dist-packages (from aiohttp->datasets) (3.0.1)\n",
            "Requirement already satisfied: aiosignal>=1.1.2 in /usr/local/lib/python3.8/dist-packages (from aiohttp->datasets) (1.3.1)\n",
            "Requirement already satisfied: frozenlist>=1.1.1 in /usr/local/lib/python3.8/dist-packages (from aiohttp->datasets) (1.3.3)\n",
            "Requirement already satisfied: typing-extensions>=3.7.4.3 in /usr/local/lib/python3.8/dist-packages (from huggingface-hub<1.0.0,>=0.2.0->datasets) (4.5.0)\n",
            "Requirement already satisfied: chardet<5,>=3.0.2 in /usr/local/lib/python3.8/dist-packages (from requests>=2.19.0->datasets) (4.0.0)\n",
            "Requirement already satisfied: urllib3<1.27,>=1.21.1 in /usr/local/lib/python3.8/dist-packages (from requests>=2.19.0->datasets) (1.24.3)\n",
            "Requirement already satisfied: certifi>=2017.4.17 in /usr/local/lib/python3.8/dist-packages (from requests>=2.19.0->datasets) (2022.12.7)\n",
            "Requirement already satisfied: idna<3,>=2.5 in /usr/local/lib/python3.8/dist-packages (from requests>=2.19.0->datasets) (2.10)\n",
            "Collecting urllib3<1.27,>=1.21.1\n",
            "  Downloading urllib3-1.26.14-py2.py3-none-any.whl (140 kB)\n",
            "\u001b[2K     \u001b[90m━━━━━━━━━━━━━━━━━━━━━━━━━━━━━━━━━━━━━━\u001b[0m \u001b[32m140.6/140.6 KB\u001b[0m \u001b[31m13.1 MB/s\u001b[0m eta \u001b[36m0:00:00\u001b[0m\n",
            "\u001b[?25hRequirement already satisfied: python-dateutil>=2.7.3 in /usr/local/lib/python3.8/dist-packages (from pandas->datasets) (2.8.2)\n",
            "Requirement already satisfied: pytz>=2017.3 in /usr/local/lib/python3.8/dist-packages (from pandas->datasets) (2022.7.1)\n",
            "Requirement already satisfied: six>=1.5 in /usr/local/lib/python3.8/dist-packages (from python-dateutil>=2.7.3->pandas->datasets) (1.15.0)\n",
            "Installing collected packages: tokenizers, sentencepiece, xxhash, urllib3, multiprocess, responses, huggingface-hub, transformers, datasets, evaluate\n",
            "  Attempting uninstall: urllib3\n",
            "    Found existing installation: urllib3 1.24.3\n",
            "    Uninstalling urllib3-1.24.3:\n",
            "      Successfully uninstalled urllib3-1.24.3\n",
            "Successfully installed datasets-2.9.0 evaluate-0.4.0 huggingface-hub-0.12.1 multiprocess-0.70.14 responses-0.18.0 sentencepiece-0.1.97 tokenizers-0.13.2 transformers-4.26.1 urllib3-1.26.14 xxhash-3.2.0\n",
            "Looking in indexes: https://pypi.org/simple, https://us-python.pkg.dev/colab-wheels/public/simple/\n",
            "Collecting faiss-gpu\n",
            "  Downloading faiss_gpu-1.7.2-cp38-cp38-manylinux_2_17_x86_64.manylinux2014_x86_64.whl (85.5 MB)\n",
            "\u001b[2K     \u001b[90m━━━━━━━━━━━━━━━━━━━━━━━━━━━━━━━━━━━━━━━━\u001b[0m \u001b[32m85.5/85.5 MB\u001b[0m \u001b[31m9.5 MB/s\u001b[0m eta \u001b[36m0:00:00\u001b[0m\n",
            "\u001b[?25hInstalling collected packages: faiss-gpu\n",
            "Successfully installed faiss-gpu-1.7.2\n"
          ]
        }
      ],
      "source": [
        "!pip install datasets evaluate transformers[sentencepiece]\n",
        "!pip install faiss-gpu"
      ]
    },
    {
      "cell_type": "markdown",
      "source": [
        "Loading The CSV dataset"
      ],
      "metadata": {
        "id": "6Ku2LFxWkU1p"
      }
    },
    {
      "cell_type": "code",
      "execution_count": 4,
      "metadata": {
        "id": "7cV1UfipZBM9",
        "outputId": "0f9212d4-b63e-4b0f-dd5d-97e23e85f901",
        "colab": {
          "base_uri": "https://localhost:8080/"
        }
      },
      "outputs": [
        {
          "output_type": "stream",
          "name": "stderr",
          "text": [
            "WARNING:datasets.builder:Using custom data configuration default-3081d6b360f2d035\n",
            "WARNING:datasets.builder:Found cached dataset csv (/root/.cache/huggingface/datasets/csv/default-3081d6b360f2d035/0.0.0/6b34fb8fcf56f7c8ba51dc895bfa2bfbe43546f190a60fcf74bb5e8afdcc2317)\n"
          ]
        },
        {
          "output_type": "execute_result",
          "data": {
            "text/plain": [
              "Dataset({\n",
              "    features: ['title', 'body', 'comments', 'html_url'],\n",
              "    num_rows: 478\n",
              "})"
            ]
          },
          "metadata": {},
          "execution_count": 4
        }
      ],
      "source": [
        "from datasets import load_dataset\n",
        "issues_dataset = load_dataset(\"csv\", data_files=\"EmbExtractedText.csv\",encoding='cp1252',split=\"train\")\n",
        "issues_dataset"
      ]
    },
    {
      "cell_type": "code",
      "execution_count": 5,
      "metadata": {
        "id": "OtCciDMRZBM9"
      },
      "outputs": [],
      "source": [
        "# issues_dataset = issues_dataset.filter(\n",
        "#     lambda x: (x[\"is_pull_request\"] == False and len(x[\"comments\"]) > 0)\n",
        "# )\n",
        "# issues_dataset"
      ]
    },
    {
      "cell_type": "markdown",
      "source": [
        "We renamed the columns to the following, this we for conveience of code execution. Will rename in the coming days. \n",
        "\n",
        "*   Title=title(Title of the article)\n",
        "*   Subheading=body(Subheadings with each article)\n",
        "*   Paragraph=comments(Content within each subparagraph)\n",
        "*   URL=html_url(URL for the article)"
      ],
      "metadata": {
        "id": "R2IaLUznlRg4"
      }
    },
    {
      "cell_type": "code",
      "execution_count": 6,
      "metadata": {
        "id": "fayB1R6FZBM9",
        "outputId": "e43492e9-4478-45f1-bd09-fc0d98d5d62c",
        "colab": {
          "base_uri": "https://localhost:8080/"
        }
      },
      "outputs": [
        {
          "output_type": "execute_result",
          "data": {
            "text/plain": [
              "Dataset({\n",
              "    features: ['title', 'body', 'comments', 'html_url'],\n",
              "    num_rows: 478\n",
              "})"
            ]
          },
          "metadata": {},
          "execution_count": 6
        }
      ],
      "source": [
        "columns = issues_dataset.column_names\n",
        "columns_to_keep = [\"title\", \"body\", \"html_url\", \"comments\"]\n",
        "columns_to_remove = set(columns_to_keep).symmetric_difference(columns)\n",
        "issues_dataset = issues_dataset.remove_columns(columns_to_remove)\n",
        "issues_dataset"
      ]
    },
    {
      "cell_type": "code",
      "execution_count": 18,
      "metadata": {
        "id": "7LkNIdvEZBM9",
        "outputId": "9ca9a975-954a-420e-e0ec-cd830e3b9b37",
        "colab": {
          "base_uri": "https://localhost:8080/",
          "height": 641
        }
      },
      "outputs": [
        {
          "output_type": "execute_result",
          "data": {
            "text/plain": [
              "                                                 title  \\\n",
              "0    Anxiety Disorders  (for Parents) - Nemours Kid...   \n",
              "1    Anxiety Disorders  (for Parents) - Nemours Kid...   \n",
              "2    Anxiety Disorders  (for Parents) - Nemours Kid...   \n",
              "3    Anxiety Disorders  (for Parents) - Nemours Kid...   \n",
              "4    Anxiety Disorders  (for Parents) - Nemours Kid...   \n",
              "..                                                 ...   \n",
              "473  23 Mom-Tested Ways to Manage a Tantrum - Motherly   \n",
              "474  23 Mom-Tested Ways to Manage a Tantrum - Motherly   \n",
              "475  23 Mom-Tested Ways to Manage a Tantrum - Motherly   \n",
              "476  23 Mom-Tested Ways to Manage a Tantrum - Motherly   \n",
              "477  23 Mom-Tested Ways to Manage a Tantrum - Motherly   \n",
              "\n",
              "                                                  body  \\\n",
              "0                          What Are Anxiety Disorders?   \n",
              "1             What Are the Kinds of Anxiety Disorders?   \n",
              "2            What Are the Signs & Symptoms of Anxiety?   \n",
              "3                       What Causes Anxiety Disorders?   \n",
              "4                 How Are Anxiety Disorders Diagnosed?   \n",
              "..                                                 ...   \n",
              "473                                 Toddler Milestones   \n",
              "474                                   Viral & Trending   \n",
              "475                                 Toddler Milestones   \n",
              "476  We believe in creating a world in which all mo...   \n",
              "477                                            Connect   \n",
              "\n",
              "                                              comments  \\\n",
              "0    Anxiety disorders cause extreme fear and worry...   \n",
              "1    Different anxiety disorders can affect kids an...   \n",
              "2    A parent or teacher may see signs that a child...   \n",
              "3    Several things play a role in causing the over...   \n",
              "4    Anxiety disorders can be diagnosed by a traine...   \n",
              "..                                                 ...   \n",
              "473  20. “We blow bubbles to calm [them] down and r...   \n",
              "474  21. “I’ve learned it’s different for each chil...   \n",
              "475                             Related Stories          \n",
              "476  Contact Us P: Advertise with Us P: Share Your ...   \n",
              "477  Our Story P: Diversity Commitment P: Careers A...   \n",
              "\n",
              "                                              html_url  \n",
              "0    https://kidshealth.org/en/parents/anxiety-diso...  \n",
              "1    https://kidshealth.org/en/parents/anxiety-diso...  \n",
              "2    https://kidshealth.org/en/parents/anxiety-diso...  \n",
              "3    https://kidshealth.org/en/parents/anxiety-diso...  \n",
              "4    https://kidshealth.org/en/parents/anxiety-diso...  \n",
              "..                                                 ...  \n",
              "473  https://www.mother.ly/toddler/toddler-mileston...  \n",
              "474  https://www.mother.ly/toddler/toddler-mileston...  \n",
              "475  https://www.mother.ly/toddler/toddler-mileston...  \n",
              "476  https://www.mother.ly/toddler/toddler-mileston...  \n",
              "477  https://www.mother.ly/toddler/toddler-mileston...  \n",
              "\n",
              "[478 rows x 4 columns]"
            ],
            "text/html": [
              "\n",
              "  <div id=\"df-9c08686c-22c6-4906-99c1-45109601928f\">\n",
              "    <div class=\"colab-df-container\">\n",
              "      <div>\n",
              "<style scoped>\n",
              "    .dataframe tbody tr th:only-of-type {\n",
              "        vertical-align: middle;\n",
              "    }\n",
              "\n",
              "    .dataframe tbody tr th {\n",
              "        vertical-align: top;\n",
              "    }\n",
              "\n",
              "    .dataframe thead th {\n",
              "        text-align: right;\n",
              "    }\n",
              "</style>\n",
              "<table border=\"1\" class=\"dataframe\">\n",
              "  <thead>\n",
              "    <tr style=\"text-align: right;\">\n",
              "      <th></th>\n",
              "      <th>title</th>\n",
              "      <th>body</th>\n",
              "      <th>comments</th>\n",
              "      <th>html_url</th>\n",
              "    </tr>\n",
              "  </thead>\n",
              "  <tbody>\n",
              "    <tr>\n",
              "      <th>0</th>\n",
              "      <td>Anxiety Disorders  (for Parents) - Nemours Kid...</td>\n",
              "      <td>What Are Anxiety Disorders?</td>\n",
              "      <td>Anxiety disorders cause extreme fear and worry...</td>\n",
              "      <td>https://kidshealth.org/en/parents/anxiety-diso...</td>\n",
              "    </tr>\n",
              "    <tr>\n",
              "      <th>1</th>\n",
              "      <td>Anxiety Disorders  (for Parents) - Nemours Kid...</td>\n",
              "      <td>What Are the Kinds of Anxiety Disorders?</td>\n",
              "      <td>Different anxiety disorders can affect kids an...</td>\n",
              "      <td>https://kidshealth.org/en/parents/anxiety-diso...</td>\n",
              "    </tr>\n",
              "    <tr>\n",
              "      <th>2</th>\n",
              "      <td>Anxiety Disorders  (for Parents) - Nemours Kid...</td>\n",
              "      <td>What Are the Signs &amp; Symptoms of Anxiety?</td>\n",
              "      <td>A parent or teacher may see signs that a child...</td>\n",
              "      <td>https://kidshealth.org/en/parents/anxiety-diso...</td>\n",
              "    </tr>\n",
              "    <tr>\n",
              "      <th>3</th>\n",
              "      <td>Anxiety Disorders  (for Parents) - Nemours Kid...</td>\n",
              "      <td>What Causes Anxiety Disorders?</td>\n",
              "      <td>Several things play a role in causing the over...</td>\n",
              "      <td>https://kidshealth.org/en/parents/anxiety-diso...</td>\n",
              "    </tr>\n",
              "    <tr>\n",
              "      <th>4</th>\n",
              "      <td>Anxiety Disorders  (for Parents) - Nemours Kid...</td>\n",
              "      <td>How Are Anxiety Disorders Diagnosed?</td>\n",
              "      <td>Anxiety disorders can be diagnosed by a traine...</td>\n",
              "      <td>https://kidshealth.org/en/parents/anxiety-diso...</td>\n",
              "    </tr>\n",
              "    <tr>\n",
              "      <th>...</th>\n",
              "      <td>...</td>\n",
              "      <td>...</td>\n",
              "      <td>...</td>\n",
              "      <td>...</td>\n",
              "    </tr>\n",
              "    <tr>\n",
              "      <th>473</th>\n",
              "      <td>23 Mom-Tested Ways to Manage a Tantrum - Motherly</td>\n",
              "      <td>Toddler Milestones</td>\n",
              "      <td>20. “We blow bubbles to calm [them] down and r...</td>\n",
              "      <td>https://www.mother.ly/toddler/toddler-mileston...</td>\n",
              "    </tr>\n",
              "    <tr>\n",
              "      <th>474</th>\n",
              "      <td>23 Mom-Tested Ways to Manage a Tantrum - Motherly</td>\n",
              "      <td>Viral &amp; Trending</td>\n",
              "      <td>21. “I’ve learned it’s different for each chil...</td>\n",
              "      <td>https://www.mother.ly/toddler/toddler-mileston...</td>\n",
              "    </tr>\n",
              "    <tr>\n",
              "      <th>475</th>\n",
              "      <td>23 Mom-Tested Ways to Manage a Tantrum - Motherly</td>\n",
              "      <td>Toddler Milestones</td>\n",
              "      <td>Related Stories</td>\n",
              "      <td>https://www.mother.ly/toddler/toddler-mileston...</td>\n",
              "    </tr>\n",
              "    <tr>\n",
              "      <th>476</th>\n",
              "      <td>23 Mom-Tested Ways to Manage a Tantrum - Motherly</td>\n",
              "      <td>We believe in creating a world in which all mo...</td>\n",
              "      <td>Contact Us P: Advertise with Us P: Share Your ...</td>\n",
              "      <td>https://www.mother.ly/toddler/toddler-mileston...</td>\n",
              "    </tr>\n",
              "    <tr>\n",
              "      <th>477</th>\n",
              "      <td>23 Mom-Tested Ways to Manage a Tantrum - Motherly</td>\n",
              "      <td>Connect</td>\n",
              "      <td>Our Story P: Diversity Commitment P: Careers A...</td>\n",
              "      <td>https://www.mother.ly/toddler/toddler-mileston...</td>\n",
              "    </tr>\n",
              "  </tbody>\n",
              "</table>\n",
              "<p>478 rows × 4 columns</p>\n",
              "</div>\n",
              "      <button class=\"colab-df-convert\" onclick=\"convertToInteractive('df-9c08686c-22c6-4906-99c1-45109601928f')\"\n",
              "              title=\"Convert this dataframe to an interactive table.\"\n",
              "              style=\"display:none;\">\n",
              "        \n",
              "  <svg xmlns=\"http://www.w3.org/2000/svg\" height=\"24px\"viewBox=\"0 0 24 24\"\n",
              "       width=\"24px\">\n",
              "    <path d=\"M0 0h24v24H0V0z\" fill=\"none\"/>\n",
              "    <path d=\"M18.56 5.44l.94 2.06.94-2.06 2.06-.94-2.06-.94-.94-2.06-.94 2.06-2.06.94zm-11 1L8.5 8.5l.94-2.06 2.06-.94-2.06-.94L8.5 2.5l-.94 2.06-2.06.94zm10 10l.94 2.06.94-2.06 2.06-.94-2.06-.94-.94-2.06-.94 2.06-2.06.94z\"/><path d=\"M17.41 7.96l-1.37-1.37c-.4-.4-.92-.59-1.43-.59-.52 0-1.04.2-1.43.59L10.3 9.45l-7.72 7.72c-.78.78-.78 2.05 0 2.83L4 21.41c.39.39.9.59 1.41.59.51 0 1.02-.2 1.41-.59l7.78-7.78 2.81-2.81c.8-.78.8-2.07 0-2.86zM5.41 20L4 18.59l7.72-7.72 1.47 1.35L5.41 20z\"/>\n",
              "  </svg>\n",
              "      </button>\n",
              "      \n",
              "  <style>\n",
              "    .colab-df-container {\n",
              "      display:flex;\n",
              "      flex-wrap:wrap;\n",
              "      gap: 12px;\n",
              "    }\n",
              "\n",
              "    .colab-df-convert {\n",
              "      background-color: #E8F0FE;\n",
              "      border: none;\n",
              "      border-radius: 50%;\n",
              "      cursor: pointer;\n",
              "      display: none;\n",
              "      fill: #1967D2;\n",
              "      height: 32px;\n",
              "      padding: 0 0 0 0;\n",
              "      width: 32px;\n",
              "    }\n",
              "\n",
              "    .colab-df-convert:hover {\n",
              "      background-color: #E2EBFA;\n",
              "      box-shadow: 0px 1px 2px rgba(60, 64, 67, 0.3), 0px 1px 3px 1px rgba(60, 64, 67, 0.15);\n",
              "      fill: #174EA6;\n",
              "    }\n",
              "\n",
              "    [theme=dark] .colab-df-convert {\n",
              "      background-color: #3B4455;\n",
              "      fill: #D2E3FC;\n",
              "    }\n",
              "\n",
              "    [theme=dark] .colab-df-convert:hover {\n",
              "      background-color: #434B5C;\n",
              "      box-shadow: 0px 1px 3px 1px rgba(0, 0, 0, 0.15);\n",
              "      filter: drop-shadow(0px 1px 2px rgba(0, 0, 0, 0.3));\n",
              "      fill: #FFFFFF;\n",
              "    }\n",
              "  </style>\n",
              "\n",
              "      <script>\n",
              "        const buttonEl =\n",
              "          document.querySelector('#df-9c08686c-22c6-4906-99c1-45109601928f button.colab-df-convert');\n",
              "        buttonEl.style.display =\n",
              "          google.colab.kernel.accessAllowed ? 'block' : 'none';\n",
              "\n",
              "        async function convertToInteractive(key) {\n",
              "          const element = document.querySelector('#df-9c08686c-22c6-4906-99c1-45109601928f');\n",
              "          const dataTable =\n",
              "            await google.colab.kernel.invokeFunction('convertToInteractive',\n",
              "                                                     [key], {});\n",
              "          if (!dataTable) return;\n",
              "\n",
              "          const docLinkHtml = 'Like what you see? Visit the ' +\n",
              "            '<a target=\"_blank\" href=https://colab.research.google.com/notebooks/data_table.ipynb>data table notebook</a>'\n",
              "            + ' to learn more about interactive tables.';\n",
              "          element.innerHTML = '';\n",
              "          dataTable['output_type'] = 'display_data';\n",
              "          await google.colab.output.renderOutput(dataTable, element);\n",
              "          const docLink = document.createElement('div');\n",
              "          docLink.innerHTML = docLinkHtml;\n",
              "          element.appendChild(docLink);\n",
              "        }\n",
              "      </script>\n",
              "    </div>\n",
              "  </div>\n",
              "  "
            ]
          },
          "metadata": {},
          "execution_count": 18
        }
      ],
      "source": [
        "issues_dataset.set_format(\"pandas\")\n",
        "df = issues_dataset[:]\n",
        "df"
      ]
    },
    {
      "cell_type": "markdown",
      "source": [
        "Here we noticed issue with the following row values, so we deleted these entries"
      ],
      "metadata": {
        "id": "T_M-i93sl59Z"
      }
    },
    {
      "cell_type": "code",
      "source": [
        "l=[0,37,215,249,257,258]\n",
        "df = df.drop(labels=l, axis=0)\n",
        "\n",
        "df"
      ],
      "metadata": {
        "id": "Q2lTZo9VjhKn",
        "outputId": "ec483b62-9fae-415e-a75a-747d26f3c939",
        "colab": {
          "base_uri": "https://localhost:8080/",
          "height": 641
        }
      },
      "execution_count": 19,
      "outputs": [
        {
          "output_type": "execute_result",
          "data": {
            "text/plain": [
              "                                                 title  \\\n",
              "1    Anxiety Disorders  (for Parents) - Nemours Kid...   \n",
              "2    Anxiety Disorders  (for Parents) - Nemours Kid...   \n",
              "3    Anxiety Disorders  (for Parents) - Nemours Kid...   \n",
              "4    Anxiety Disorders  (for Parents) - Nemours Kid...   \n",
              "5    Anxiety Disorders  (for Parents) - Nemours Kid...   \n",
              "..                                                 ...   \n",
              "473  23 Mom-Tested Ways to Manage a Tantrum - Motherly   \n",
              "474  23 Mom-Tested Ways to Manage a Tantrum - Motherly   \n",
              "475  23 Mom-Tested Ways to Manage a Tantrum - Motherly   \n",
              "476  23 Mom-Tested Ways to Manage a Tantrum - Motherly   \n",
              "477  23 Mom-Tested Ways to Manage a Tantrum - Motherly   \n",
              "\n",
              "                                                  body  \\\n",
              "1             What Are the Kinds of Anxiety Disorders?   \n",
              "2            What Are the Signs & Symptoms of Anxiety?   \n",
              "3                       What Causes Anxiety Disorders?   \n",
              "4                 How Are Anxiety Disorders Diagnosed?   \n",
              "5                   How Are Anxiety Disorders Treated?   \n",
              "..                                                 ...   \n",
              "473                                 Toddler Milestones   \n",
              "474                                   Viral & Trending   \n",
              "475                                 Toddler Milestones   \n",
              "476  We believe in creating a world in which all mo...   \n",
              "477                                            Connect   \n",
              "\n",
              "                                              comments  \\\n",
              "1    Different anxiety disorders can affect kids an...   \n",
              "2    A parent or teacher may see signs that a child...   \n",
              "3    Several things play a role in causing the over...   \n",
              "4    Anxiety disorders can be diagnosed by a traine...   \n",
              "5    Most often, anxiety disorders are treated with...   \n",
              "..                                                 ...   \n",
              "473  20. “We blow bubbles to calm [them] down and r...   \n",
              "474  21. “I’ve learned it’s different for each chil...   \n",
              "475                             Related Stories          \n",
              "476  Contact Us P: Advertise with Us P: Share Your ...   \n",
              "477  Our Story P: Diversity Commitment P: Careers A...   \n",
              "\n",
              "                                              html_url  \n",
              "1    https://kidshealth.org/en/parents/anxiety-diso...  \n",
              "2    https://kidshealth.org/en/parents/anxiety-diso...  \n",
              "3    https://kidshealth.org/en/parents/anxiety-diso...  \n",
              "4    https://kidshealth.org/en/parents/anxiety-diso...  \n",
              "5    https://kidshealth.org/en/parents/anxiety-diso...  \n",
              "..                                                 ...  \n",
              "473  https://www.mother.ly/toddler/toddler-mileston...  \n",
              "474  https://www.mother.ly/toddler/toddler-mileston...  \n",
              "475  https://www.mother.ly/toddler/toddler-mileston...  \n",
              "476  https://www.mother.ly/toddler/toddler-mileston...  \n",
              "477  https://www.mother.ly/toddler/toddler-mileston...  \n",
              "\n",
              "[472 rows x 4 columns]"
            ],
            "text/html": [
              "\n",
              "  <div id=\"df-b65a1250-89e0-4b8a-acdc-9b4fb193ee6c\">\n",
              "    <div class=\"colab-df-container\">\n",
              "      <div>\n",
              "<style scoped>\n",
              "    .dataframe tbody tr th:only-of-type {\n",
              "        vertical-align: middle;\n",
              "    }\n",
              "\n",
              "    .dataframe tbody tr th {\n",
              "        vertical-align: top;\n",
              "    }\n",
              "\n",
              "    .dataframe thead th {\n",
              "        text-align: right;\n",
              "    }\n",
              "</style>\n",
              "<table border=\"1\" class=\"dataframe\">\n",
              "  <thead>\n",
              "    <tr style=\"text-align: right;\">\n",
              "      <th></th>\n",
              "      <th>title</th>\n",
              "      <th>body</th>\n",
              "      <th>comments</th>\n",
              "      <th>html_url</th>\n",
              "    </tr>\n",
              "  </thead>\n",
              "  <tbody>\n",
              "    <tr>\n",
              "      <th>1</th>\n",
              "      <td>Anxiety Disorders  (for Parents) - Nemours Kid...</td>\n",
              "      <td>What Are the Kinds of Anxiety Disorders?</td>\n",
              "      <td>Different anxiety disorders can affect kids an...</td>\n",
              "      <td>https://kidshealth.org/en/parents/anxiety-diso...</td>\n",
              "    </tr>\n",
              "    <tr>\n",
              "      <th>2</th>\n",
              "      <td>Anxiety Disorders  (for Parents) - Nemours Kid...</td>\n",
              "      <td>What Are the Signs &amp; Symptoms of Anxiety?</td>\n",
              "      <td>A parent or teacher may see signs that a child...</td>\n",
              "      <td>https://kidshealth.org/en/parents/anxiety-diso...</td>\n",
              "    </tr>\n",
              "    <tr>\n",
              "      <th>3</th>\n",
              "      <td>Anxiety Disorders  (for Parents) - Nemours Kid...</td>\n",
              "      <td>What Causes Anxiety Disorders?</td>\n",
              "      <td>Several things play a role in causing the over...</td>\n",
              "      <td>https://kidshealth.org/en/parents/anxiety-diso...</td>\n",
              "    </tr>\n",
              "    <tr>\n",
              "      <th>4</th>\n",
              "      <td>Anxiety Disorders  (for Parents) - Nemours Kid...</td>\n",
              "      <td>How Are Anxiety Disorders Diagnosed?</td>\n",
              "      <td>Anxiety disorders can be diagnosed by a traine...</td>\n",
              "      <td>https://kidshealth.org/en/parents/anxiety-diso...</td>\n",
              "    </tr>\n",
              "    <tr>\n",
              "      <th>5</th>\n",
              "      <td>Anxiety Disorders  (for Parents) - Nemours Kid...</td>\n",
              "      <td>How Are Anxiety Disorders Treated?</td>\n",
              "      <td>Most often, anxiety disorders are treated with...</td>\n",
              "      <td>https://kidshealth.org/en/parents/anxiety-diso...</td>\n",
              "    </tr>\n",
              "    <tr>\n",
              "      <th>...</th>\n",
              "      <td>...</td>\n",
              "      <td>...</td>\n",
              "      <td>...</td>\n",
              "      <td>...</td>\n",
              "    </tr>\n",
              "    <tr>\n",
              "      <th>473</th>\n",
              "      <td>23 Mom-Tested Ways to Manage a Tantrum - Motherly</td>\n",
              "      <td>Toddler Milestones</td>\n",
              "      <td>20. “We blow bubbles to calm [them] down and r...</td>\n",
              "      <td>https://www.mother.ly/toddler/toddler-mileston...</td>\n",
              "    </tr>\n",
              "    <tr>\n",
              "      <th>474</th>\n",
              "      <td>23 Mom-Tested Ways to Manage a Tantrum - Motherly</td>\n",
              "      <td>Viral &amp; Trending</td>\n",
              "      <td>21. “I’ve learned it’s different for each chil...</td>\n",
              "      <td>https://www.mother.ly/toddler/toddler-mileston...</td>\n",
              "    </tr>\n",
              "    <tr>\n",
              "      <th>475</th>\n",
              "      <td>23 Mom-Tested Ways to Manage a Tantrum - Motherly</td>\n",
              "      <td>Toddler Milestones</td>\n",
              "      <td>Related Stories</td>\n",
              "      <td>https://www.mother.ly/toddler/toddler-mileston...</td>\n",
              "    </tr>\n",
              "    <tr>\n",
              "      <th>476</th>\n",
              "      <td>23 Mom-Tested Ways to Manage a Tantrum - Motherly</td>\n",
              "      <td>We believe in creating a world in which all mo...</td>\n",
              "      <td>Contact Us P: Advertise with Us P: Share Your ...</td>\n",
              "      <td>https://www.mother.ly/toddler/toddler-mileston...</td>\n",
              "    </tr>\n",
              "    <tr>\n",
              "      <th>477</th>\n",
              "      <td>23 Mom-Tested Ways to Manage a Tantrum - Motherly</td>\n",
              "      <td>Connect</td>\n",
              "      <td>Our Story P: Diversity Commitment P: Careers A...</td>\n",
              "      <td>https://www.mother.ly/toddler/toddler-mileston...</td>\n",
              "    </tr>\n",
              "  </tbody>\n",
              "</table>\n",
              "<p>472 rows × 4 columns</p>\n",
              "</div>\n",
              "      <button class=\"colab-df-convert\" onclick=\"convertToInteractive('df-b65a1250-89e0-4b8a-acdc-9b4fb193ee6c')\"\n",
              "              title=\"Convert this dataframe to an interactive table.\"\n",
              "              style=\"display:none;\">\n",
              "        \n",
              "  <svg xmlns=\"http://www.w3.org/2000/svg\" height=\"24px\"viewBox=\"0 0 24 24\"\n",
              "       width=\"24px\">\n",
              "    <path d=\"M0 0h24v24H0V0z\" fill=\"none\"/>\n",
              "    <path d=\"M18.56 5.44l.94 2.06.94-2.06 2.06-.94-2.06-.94-.94-2.06-.94 2.06-2.06.94zm-11 1L8.5 8.5l.94-2.06 2.06-.94-2.06-.94L8.5 2.5l-.94 2.06-2.06.94zm10 10l.94 2.06.94-2.06 2.06-.94-2.06-.94-.94-2.06-.94 2.06-2.06.94z\"/><path d=\"M17.41 7.96l-1.37-1.37c-.4-.4-.92-.59-1.43-.59-.52 0-1.04.2-1.43.59L10.3 9.45l-7.72 7.72c-.78.78-.78 2.05 0 2.83L4 21.41c.39.39.9.59 1.41.59.51 0 1.02-.2 1.41-.59l7.78-7.78 2.81-2.81c.8-.78.8-2.07 0-2.86zM5.41 20L4 18.59l7.72-7.72 1.47 1.35L5.41 20z\"/>\n",
              "  </svg>\n",
              "      </button>\n",
              "      \n",
              "  <style>\n",
              "    .colab-df-container {\n",
              "      display:flex;\n",
              "      flex-wrap:wrap;\n",
              "      gap: 12px;\n",
              "    }\n",
              "\n",
              "    .colab-df-convert {\n",
              "      background-color: #E8F0FE;\n",
              "      border: none;\n",
              "      border-radius: 50%;\n",
              "      cursor: pointer;\n",
              "      display: none;\n",
              "      fill: #1967D2;\n",
              "      height: 32px;\n",
              "      padding: 0 0 0 0;\n",
              "      width: 32px;\n",
              "    }\n",
              "\n",
              "    .colab-df-convert:hover {\n",
              "      background-color: #E2EBFA;\n",
              "      box-shadow: 0px 1px 2px rgba(60, 64, 67, 0.3), 0px 1px 3px 1px rgba(60, 64, 67, 0.15);\n",
              "      fill: #174EA6;\n",
              "    }\n",
              "\n",
              "    [theme=dark] .colab-df-convert {\n",
              "      background-color: #3B4455;\n",
              "      fill: #D2E3FC;\n",
              "    }\n",
              "\n",
              "    [theme=dark] .colab-df-convert:hover {\n",
              "      background-color: #434B5C;\n",
              "      box-shadow: 0px 1px 3px 1px rgba(0, 0, 0, 0.15);\n",
              "      filter: drop-shadow(0px 1px 2px rgba(0, 0, 0, 0.3));\n",
              "      fill: #FFFFFF;\n",
              "    }\n",
              "  </style>\n",
              "\n",
              "      <script>\n",
              "        const buttonEl =\n",
              "          document.querySelector('#df-b65a1250-89e0-4b8a-acdc-9b4fb193ee6c button.colab-df-convert');\n",
              "        buttonEl.style.display =\n",
              "          google.colab.kernel.accessAllowed ? 'block' : 'none';\n",
              "\n",
              "        async function convertToInteractive(key) {\n",
              "          const element = document.querySelector('#df-b65a1250-89e0-4b8a-acdc-9b4fb193ee6c');\n",
              "          const dataTable =\n",
              "            await google.colab.kernel.invokeFunction('convertToInteractive',\n",
              "                                                     [key], {});\n",
              "          if (!dataTable) return;\n",
              "\n",
              "          const docLinkHtml = 'Like what you see? Visit the ' +\n",
              "            '<a target=\"_blank\" href=https://colab.research.google.com/notebooks/data_table.ipynb>data table notebook</a>'\n",
              "            + ' to learn more about interactive tables.';\n",
              "          element.innerHTML = '';\n",
              "          dataTable['output_type'] = 'display_data';\n",
              "          await google.colab.output.renderOutput(dataTable, element);\n",
              "          const docLink = document.createElement('div');\n",
              "          docLink.innerHTML = docLinkHtml;\n",
              "          element.appendChild(docLink);\n",
              "        }\n",
              "      </script>\n",
              "    </div>\n",
              "  </div>\n",
              "  "
            ]
          },
          "metadata": {},
          "execution_count": 19
        }
      ]
    },
    {
      "cell_type": "code",
      "execution_count": 8,
      "metadata": {
        "id": "DhWRJ1lRZBM9"
      },
      "outputs": [],
      "source": [
        "# df[\"comments\"][0].tolist()"
      ]
    },
    {
      "cell_type": "code",
      "execution_count": 9,
      "metadata": {
        "id": "cboLHRAWZBM-"
      },
      "outputs": [],
      "source": [
        "# comments_df = df.explode(\"comments\", ignore_index=True)\n",
        "# comments_df.head(4)"
      ]
    },
    {
      "cell_type": "code",
      "execution_count": 20,
      "metadata": {
        "id": "iWh1KH0eZBM-",
        "outputId": "4be3de5f-5bcf-48d9-fbd3-cb74283dd732",
        "colab": {
          "base_uri": "https://localhost:8080/"
        }
      },
      "outputs": [
        {
          "output_type": "execute_result",
          "data": {
            "text/plain": [
              "Dataset({\n",
              "    features: ['title', 'body', 'comments', 'html_url', '__index_level_0__'],\n",
              "    num_rows: 472\n",
              "})"
            ]
          },
          "metadata": {},
          "execution_count": 20
        }
      ],
      "source": [
        "from datasets import Dataset\n",
        "\n",
        "comments_dataset = Dataset.from_pandas(df)\n",
        "comments_dataset"
      ]
    },
    {
      "cell_type": "code",
      "execution_count": 14,
      "metadata": {
        "id": "2GNIx3gBZBM-"
      },
      "outputs": [],
      "source": [
        "# comments_dataset = comments_dataset.map(\n",
        "#     lambda x: {\"comment_length\": len(x[\"comments\"].split())}\n",
        "# )"
      ]
    },
    {
      "cell_type": "code",
      "execution_count": 15,
      "metadata": {
        "id": "9eKFEoiMZBM-"
      },
      "outputs": [],
      "source": [
        "# comments_dataset = comments_dataset.filter(lambda x: x[\"comment_length\"] > 15)\n",
        "# comments_dataset"
      ]
    },
    {
      "cell_type": "code",
      "source": [
        "# l=[0,37,215,249,257,258]\n",
        "# comments_dataset = comments_dataset.drop(labels=l, axis=0)\n",
        "\n",
        "# comments_dataset"
      ],
      "metadata": {
        "id": "uh7OjxmnjA2Z"
      },
      "execution_count": 21,
      "outputs": []
    },
    {
      "cell_type": "markdown",
      "source": [
        "Here, we have combined the title, subheading and paragraph to compute embeddings and stored it in \"text\" variable. This variable is further used to compute **embeddings**."
      ],
      "metadata": {
        "id": "d8hG-QrbmU_T"
      }
    },
    {
      "cell_type": "code",
      "execution_count": 22,
      "metadata": {
        "id": "7RFclrRSZBM-",
        "outputId": "130ad470-318c-4d60-91f5-d6fc2e4e9cce",
        "colab": {
          "base_uri": "https://localhost:8080/",
          "height": 49,
          "referenced_widgets": [
            "58359f605a2140c285d77560681ee408",
            "123a76a7f0c54393b52ec57992e7dec9",
            "726e1c65247b4c6194d593b3a558b5f1",
            "62e441abc87449329ec1b934a61dddcf",
            "8ccbac1ff67a48cc8ea88547ea5e9b9f",
            "35cb9b4be78d4c7a9cdc9bbb4d293324",
            "e9fc570c4bf643a68df7bd5ee8bd19e9",
            "b485779a348341a2a5b29a7715483a52",
            "1567169751f14f8e9a2ccdb9ffb549a3",
            "30e3bbb5b1ff4542b6507b1562f46d57",
            "3f142ff341fc428ca6b9715375aba838"
          ]
        }
      },
      "outputs": [
        {
          "output_type": "display_data",
          "data": {
            "text/plain": [
              "  0%|          | 0/472 [00:00<?, ?ex/s]"
            ],
            "application/vnd.jupyter.widget-view+json": {
              "version_major": 2,
              "version_minor": 0,
              "model_id": "58359f605a2140c285d77560681ee408"
            }
          },
          "metadata": {}
        }
      ],
      "source": [
        "def concatenate_text(examples):\n",
        "    return {\n",
        "        \"text\": examples[\"title\"]\n",
        "        + \" \\n \"\n",
        "        + examples[\"body\"]\n",
        "        + \" \\n \"\n",
        "        + examples[\"comments\"]\n",
        "    }\n",
        "\n",
        "\n",
        "comments_dataset = comments_dataset.map(concatenate_text)"
      ]
    },
    {
      "cell_type": "code",
      "source": [
        "comments_dataset"
      ],
      "metadata": {
        "id": "sw_4iIrss1p6",
        "outputId": "52d60312-cbf5-4555-836e-1f265818835b",
        "colab": {
          "base_uri": "https://localhost:8080/"
        }
      },
      "execution_count": 68,
      "outputs": [
        {
          "output_type": "execute_result",
          "data": {
            "text/plain": [
              "Dataset({\n",
              "    features: ['title', 'body', 'comments', 'html_url', '__index_level_0__', 'text'],\n",
              "    num_rows: 472\n",
              "})"
            ]
          },
          "metadata": {},
          "execution_count": 68
        }
      ]
    },
    {
      "cell_type": "code",
      "source": [
        "columns = comments_dataset.column_names\n",
        "columns_to_keep = [\"title\", \"body\", \"html_url\", \"comments\",\"text\"]\n",
        "columns_to_remove = set(columns_to_keep).symmetric_difference(columns)\n",
        "comments_dataset = comments_dataset.remove_columns(columns_to_remove)\n",
        "comments_dataset"
      ],
      "metadata": {
        "id": "3Cqk7kUptD1T",
        "outputId": "658a9734-0361-46aa-beeb-07603e1ff5be",
        "colab": {
          "base_uri": "https://localhost:8080/"
        }
      },
      "execution_count": 69,
      "outputs": [
        {
          "output_type": "execute_result",
          "data": {
            "text/plain": [
              "Dataset({\n",
              "    features: ['title', 'body', 'comments', 'html_url', 'text'],\n",
              "    num_rows: 472\n",
              "})"
            ]
          },
          "metadata": {},
          "execution_count": 69
        }
      ]
    },
    {
      "cell_type": "markdown",
      "source": [
        "Model selection"
      ],
      "metadata": {
        "id": "mMVbqgy_mTnd"
      }
    },
    {
      "cell_type": "code",
      "execution_count": 70,
      "metadata": {
        "id": "iW1-EB8pZBM-"
      },
      "outputs": [],
      "source": [
        "from transformers import AutoTokenizer, AutoModel\n",
        "\n",
        "model_ckpt = \"sentence-transformers/multi-qa-mpnet-base-dot-v1\"\n",
        "tokenizer = AutoTokenizer.from_pretrained(model_ckpt)\n",
        "model = AutoModel.from_pretrained(model_ckpt)"
      ]
    },
    {
      "cell_type": "code",
      "execution_count": 71,
      "metadata": {
        "id": "1eSPt8VEZBM-"
      },
      "outputs": [],
      "source": [
        "# import torch\n",
        "\n",
        "# #device = torch.device(\"cuda\")\n",
        "# model.to(device)"
      ]
    },
    {
      "cell_type": "code",
      "execution_count": 72,
      "metadata": {
        "id": "KIdNlTAyZBM-"
      },
      "outputs": [],
      "source": [
        "def cls_pooling(model_output):\n",
        "    return model_output.last_hidden_state[:, 0]"
      ]
    },
    {
      "cell_type": "markdown",
      "source": [
        "Function to compute embedding values which the model will use further for semantic search"
      ],
      "metadata": {
        "id": "hCuIG62zm6tl"
      }
    },
    {
      "cell_type": "code",
      "execution_count": 73,
      "metadata": {
        "id": "kfBqi7KBZBM-"
      },
      "outputs": [],
      "source": [
        "def get_embeddings(text_list):\n",
        "    encoded_input = tokenizer(\n",
        "        text_list, padding=True, truncation=True, return_tensors=\"pt\"\n",
        "    )\n",
        "    #encoded_input = {k: v.to(device) for k, v in encoded_input.items()}\n",
        "    model_output = model(**encoded_input)\n",
        "    return cls_pooling(model_output)"
      ]
    },
    {
      "cell_type": "code",
      "execution_count": 74,
      "metadata": {
        "id": "PBDKrhzAZBM-",
        "outputId": "874e58fe-6029-4c9d-e5c2-ed43c9293203",
        "colab": {
          "base_uri": "https://localhost:8080/"
        }
      },
      "outputs": [
        {
          "output_type": "execute_result",
          "data": {
            "text/plain": [
              "torch.Size([1, 768])"
            ]
          },
          "metadata": {},
          "execution_count": 74
        }
      ],
      "source": [
        "embedding = get_embeddings(comments_dataset[\"text\"][0])\n",
        "embedding.shape"
      ]
    },
    {
      "cell_type": "code",
      "execution_count": 75,
      "metadata": {
        "id": "DlWi8byTZBM-",
        "outputId": "d9186d8f-2498-4090-92ba-acbf298d507b",
        "colab": {
          "base_uri": "https://localhost:8080/",
          "height": 49,
          "referenced_widgets": [
            "e96bf8ff75d648c494f3dd17ffb593b5",
            "640c290b63a445e2998241bba7d3db44",
            "ec47ef06f35e4777b98e2ba36e41b7cf",
            "9946abef47a3468c807740cb2e6db0c2",
            "21b0b4510a1442c3a6967b38a59ab702",
            "be385f1485f446dd9e80c82f4753d800",
            "bf18807a3b2f40729bfff746a0679aad",
            "2e199054eda14ca7b50d88bdbfb08330",
            "f86286e94f5c43208adba41807187ce2",
            "a1a997969bc74ddf9c6aa3c43f77efc4",
            "88efb204e79e47c48873ab2a0478a259"
          ]
        }
      },
      "outputs": [
        {
          "output_type": "display_data",
          "data": {
            "text/plain": [
              "  0%|          | 0/472 [00:00<?, ?ex/s]"
            ],
            "application/vnd.jupyter.widget-view+json": {
              "version_major": 2,
              "version_minor": 0,
              "model_id": "e96bf8ff75d648c494f3dd17ffb593b5"
            }
          },
          "metadata": {}
        }
      ],
      "source": [
        "embeddings_dataset = comments_dataset.map(\n",
        "    lambda x: {\"embeddings\": get_embeddings(x[\"text\"]).detach().cpu().numpy()[0]}\n",
        ")"
      ]
    },
    {
      "cell_type": "code",
      "execution_count": 83,
      "metadata": {
        "id": "xRDRshIdZBM-",
        "outputId": "f2df5559-bc13-47cd-cc55-6a21c7329653",
        "colab": {
          "base_uri": "https://localhost:8080/",
          "height": 120,
          "referenced_widgets": [
            "65a5a5c1164e475093cbe681e3fe9698",
            "8ac9d7da2638429aa05d0f2fb777e15b",
            "fcdbc214d6484681b46bf3f12d57b686",
            "08c301deff244680a1bba668f309d8b6",
            "91fa259ba1da4c3f84a030b76b63c833",
            "f04567c5e7454873b864221ba5f7404a",
            "b3934712acc4432a9a85d92c0e21311c",
            "fdfe0c5b32ed4d3c81a2bf21c3bbf84a",
            "9fe3f6cce8024274b65b659afe3ec968",
            "36493b85a7b54971912d796fab547cff",
            "9308df3efa2b417cafadae1663031c4c"
          ]
        }
      },
      "outputs": [
        {
          "output_type": "display_data",
          "data": {
            "text/plain": [
              "  0%|          | 0/1 [00:00<?, ?it/s]"
            ],
            "application/vnd.jupyter.widget-view+json": {
              "version_major": 2,
              "version_minor": 0,
              "model_id": "65a5a5c1164e475093cbe681e3fe9698"
            }
          },
          "metadata": {}
        },
        {
          "output_type": "execute_result",
          "data": {
            "text/plain": [
              "Dataset({\n",
              "    features: ['title', 'body', 'comments', 'html_url', 'text', 'embeddings'],\n",
              "    num_rows: 472\n",
              "})"
            ]
          },
          "metadata": {},
          "execution_count": 83
        }
      ],
      "source": [
        "embeddings_dataset.add_faiss_index(column=\"embeddings\")"
      ]
    },
    {
      "cell_type": "code",
      "execution_count": 97,
      "metadata": {
        "id": "ZLRa3eTwZBM-",
        "outputId": "b13d1660-f4a4-4735-a3aa-4ed735a16d18",
        "colab": {
          "base_uri": "https://localhost:8080/"
        }
      },
      "outputs": [
        {
          "output_type": "execute_result",
          "data": {
            "text/plain": [
              "(1, 768)"
            ]
          },
          "metadata": {},
          "execution_count": 97
        }
      ],
      "source": [
        "question = [\"Therapy for ADHD\", \"Not able to focus\",\"Child not sleeping properly\",\"bed wetting\"]\n",
        "question_embedding = get_embeddings([question[-1]]).cpu().detach().numpy()\n",
        "question_embedding.shape"
      ]
    },
    {
      "cell_type": "code",
      "execution_count": 98,
      "metadata": {
        "id": "y8m33DR6ZBM-"
      },
      "outputs": [],
      "source": [
        "scores, samples = embeddings_dataset.get_nearest_examples(\n",
        "    \"embeddings\", question_embedding, k=5\n",
        ")"
      ]
    },
    {
      "cell_type": "code",
      "execution_count": 99,
      "metadata": {
        "id": "ZientTdTZBM-"
      },
      "outputs": [],
      "source": [
        "import pandas as pd\n",
        "\n",
        "samples_df = pd.DataFrame.from_dict(samples)\n",
        "samples_df[\"scores\"] = scores\n",
        "samples_df.sort_values(\"scores\", ascending=False, inplace=True)"
      ]
    },
    {
      "cell_type": "code",
      "execution_count": 100,
      "metadata": {
        "id": "wmXrfiK3ZBM-",
        "outputId": "f891e445-1155-4761-f2bb-5508fa2befa1",
        "colab": {
          "base_uri": "https://localhost:8080/"
        }
      },
      "outputs": [
        {
          "output_type": "stream",
          "name": "stdout",
          "text": [
            "TITLE: Potty Training: What to Know\n",
            "SCORE: 45.69811248779297\n",
            "COMMENT:  Children's Health  P:  Children's Vaccines  P:  Parenting  P:  Pregnancy  P:  More Related Topics  P:  Parenting  P:  P:  P:  P:  P:  P:  P:  Coronavirus Update  P:  Check Your Symptoms  P:  Find A Doctor  P:  Find A Dentist  P:  Connect to Care  P:  Find Lowest Drug Prices  P: Health  A-Z Health A-Z  Health A-Z  Common Conditions   ADD/ADHD  Allergies  Arthritis  Cancer  Coronavirus (COVID-19)  Depression  Diabetes  Eye Health  Heart Disease  Lung Disease  Orthopedics  Pain Management  Sexual Conditions  Skin Problems  Sleep Disorders  View All  Resources   Symptom Checker  WebMD Blogs  Podcasts  Newsletters  Best Hospitals  Find a Doctor  Surgeries and Procedures A-Z Featured Topics Slideshow  Signs You Have Already Had COVID  Slideshow  Get Help for Migraine Relief  P:  ADD/ADHD  P:  Allergies  P:  Arthritis  P:  Cancer  P:  Coronavirus (COVID-19)  P:  Depression  P:  Diabetes  P:  Eye Health  P:  Heart Disease  P:  Lung Disease  P:  Orthopedics  P:  Pain Management  P:  Sexual Conditions  P:  Skin Problems  P:  Sleep Disorders  P:  View All  P:  Symptom Checker  P:  WebMD Blogs  P:  Podcasts  P:  Newsletters  P:  Best Hospitals  P:  Find a Doctor  P:  Surgeries and Procedures A-Z  P:  Slideshow  Signs You Have Already Had COVID  P:  Slideshow  Get Help for Migraine Relief  P: Drugs &  Supplements Drugs & Supplements  Drugs & Supplements  Find & Review   Drugs  Supplements  Drug Basics & Safety   Commonly Abused Drugs  Taking Meds When Pregnant  Tools   Manage Your Medications  Pill Identifier  Check for Interactions  Drug Comparison Tool Featured Topics Slideshow  Vitamins You Need as You Age  Coronavirus  COVID-19 Vaccines  P:  Drugs  P:  Supplements  P:  Commonly Abused Drugs  P:  Taking Meds When Pregnant  P:  Manage Your Medications  P:  Pill Identifier  P:  Check for Interactions  P:  Drug Comparison Tool  P:  Slideshow  Vitamins You Need as You Age  P:  Coronavirus  COVID-19 Vaccines  P: Living  Healthy Living Healthy  Living Healthy  Diet, Food & Fitness   Diet & Weight Management  Weight Loss & Obesity  Food & Recipes  Fitness & Exercise  Beauty & Balance   Healthy Beauty  Health & Balance  Sex & Relationships  Oral Care  Living Well   Women's Health  Men's Health  Aging Well  Healthy Sleep  Healthy Teens Featured Topics Article  Smart Grocery Shopping When You Have Diabetes  Quiz  Do You Know the Benefits of Walking?  P:  Diet & Weight Management  P:  Weight Loss & Obesity  P:  Food & Recipes  P:  Fitness & Exercise  P:  Healthy Beauty  P:  Health & Balance  P:  Sex & Relationships  P:  Oral Care  P:  Women's Health  P:  Men's Health  P:  Aging Well  P:  Healthy Sleep  P:  Healthy Teens  P:  Article  Smart Grocery Shopping When You Have Diabetes  P:  Quiz  Do You Know the Benefits of Walking?  P: Family &  Pregnancy Family & Pregnancy  Family & Pregnancy  All About Pregnancy   Getting Pregnant  First Trimester  Second Trimester  Third Trimester  View All  Parenting Guide   Newborn & Baby  Children's Health  Children's Vaccines  View All  Pet Care Essentials   Healthy Cats  Healthy Dogs  View All Featured Topics Slideshow  Smart Snacks When You're Pregnant  Slideshow  Surprising Things You Didn't Know About Dogs and Cats  P:  Getting Pregnant  P:  First Trimester  P:  Second Trimester  P:  Third Trimester  P:  View All  P:  Newborn & Baby  P:  Children's Health  P:  Children's Vaccines  P:  View All  P:  Healthy Cats  P:  Healthy Dogs  P:  View All  P:  Slideshow  Smart Snacks When You're Pregnant  P:  Slideshow  Surprising Things You Didn't Know About Dogs and Cats  P: News &  Experts News & Experts  News & Experts  Health News   'Tripledemic' Cases Decline in U.S. Hospitals  New Mental Health Crisis Hotline Sees Surge in Calls  Video Game Addiction Warning Signs, How to Get Help  USDA Strengthens Rules to Reduce 'Organic Fraud'  Ultraviolet Nail Polish Dryers Could Pose Health Risk  Experts & Community   Support Groups  Blogs  Webinars  News Center  New Book: Take Control of Your Heart Disease Risk Featured Topics WebMD News Special  Colorism: How Skin Color, Race Create a Toxic Mix for Health  Get Our Newsletters  Health News and Information, Delivered to Your Inbox  P:  'Tripledemic' Cases Decline in U.S. Hospitals  P:  New Mental Health Crisis Hotline Sees Surge in Calls  P:  Video Game Addiction Warning Signs, How to Get Help  P:  USDA Strengthens Rules to Reduce 'Organic Fraud'  P:  Ultraviolet Nail Polish Dryers Could Pose Health Risk  P:  Support Groups  P:  Blogs  P:  Webinars  P:  News Center  P:  New Book: Take Control of Your Heart Disease Risk  P:  WebMD News Special  Colorism: How Skin Color, Race Create a Toxic Mix for Health  P:  Get Our Newsletters  Health News and Information, Delivered to Your Inbox  P:  Mobile Apps  P:  Subscriptions  \n",
            "URL: https://www.webmd.com/parenting/baby/potty-training-when-to-start#\n",
            "==================================================\n",
            "\n",
            "TITLE: 6 Solutions to Your Child's Biggest Potty Training Problems\n",
            "SCORE: 45.249664306640625\n",
            "COMMENT: About Us P: Expert Review Board P: Editorial Guidelines P: Product Review Guidelines P: Diversity Pledge P: Privacy Policy P: Careers P: Terms of Use P: Contact P: Advertise P: Do Not Sell My Personal Information P: By clicking “Accept All Cookies”, you agree to the storing of cookies on your device to enhance site navigation, analyze site usage, and assist in our marketing efforts.   \n",
            "URL: https://www.parents.com/toddlers-preschoolers/potty-training/problems/solutions-to-your-childs-biggest-potty-training\n",
            "==================================================\n",
            "\n",
            "TITLE: 6 Solutions to Your Child's Biggest Potty Training Problems\n",
            "SCORE: 44.46855926513672\n",
            "COMMENT: olutions to Your Child's Biggest Potty Training ProblemsH:  6 Solutions to Your Child's Biggest Potty Training Problems \n",
            "URL: https://www.parents.com/toddlers-preschoolers/potty-training/problems/solutions-to-your-childs-biggest-potty-training\n",
            "==================================================\n",
            "\n",
            "TITLE: Why I Don't Co-Sleep - Motherly\n",
            "SCORE: 43.63381576538086\n",
            "COMMENT:      Related Stories       \n",
            "URL: https://www.mother.ly/life/motherly-stories/kids-sleep-own-bed\n",
            "==================================================\n",
            "\n",
            "TITLE: Potty Training: What to Know\n",
            "SCORE: 42.86789321899414\n",
            "COMMENT:  P:  P:  \n",
            "URL: https://www.webmd.com/parenting/baby/potty-training-when-to-start#\n",
            "==================================================\n",
            "\n"
          ]
        }
      ],
      "source": [
        "for _, row in samples_df.iterrows():\n",
        "    print(f\"TITLE: {row.title}\")\n",
        "    print(f\"SCORE: {row.scores}\")\n",
        "    print(f\"COMMENT: {row.comments}\")\n",
        "    print(f\"URL: {row.html_url}\")\n",
        "    print(\"=\" * 50)\n",
        "    print()"
      ]
    },
    {
      "cell_type": "code",
      "source": [],
      "metadata": {
        "id": "vDcxP1HzsLS1"
      },
      "execution_count": null,
      "outputs": []
    }
  ],
  "metadata": {
    "colab": {
      "name": "Semantic search with FAISS (PyTorch)",
      "provenance": [],
      "include_colab_link": true
    },
    "language_info": {
      "name": "python"
    },
    "kernelspec": {
      "name": "python3",
      "display_name": "Python 3"
    },
    "gpuClass": "standard",
    "widgets": {
      "application/vnd.jupyter.widget-state+json": {
        "58359f605a2140c285d77560681ee408": {
          "model_module": "@jupyter-widgets/controls",
          "model_name": "HBoxModel",
          "model_module_version": "1.5.0",
          "state": {
            "_dom_classes": [],
            "_model_module": "@jupyter-widgets/controls",
            "_model_module_version": "1.5.0",
            "_model_name": "HBoxModel",
            "_view_count": null,
            "_view_module": "@jupyter-widgets/controls",
            "_view_module_version": "1.5.0",
            "_view_name": "HBoxView",
            "box_style": "",
            "children": [
              "IPY_MODEL_123a76a7f0c54393b52ec57992e7dec9",
              "IPY_MODEL_726e1c65247b4c6194d593b3a558b5f1",
              "IPY_MODEL_62e441abc87449329ec1b934a61dddcf"
            ],
            "layout": "IPY_MODEL_8ccbac1ff67a48cc8ea88547ea5e9b9f"
          }
        },
        "123a76a7f0c54393b52ec57992e7dec9": {
          "model_module": "@jupyter-widgets/controls",
          "model_name": "HTMLModel",
          "model_module_version": "1.5.0",
          "state": {
            "_dom_classes": [],
            "_model_module": "@jupyter-widgets/controls",
            "_model_module_version": "1.5.0",
            "_model_name": "HTMLModel",
            "_view_count": null,
            "_view_module": "@jupyter-widgets/controls",
            "_view_module_version": "1.5.0",
            "_view_name": "HTMLView",
            "description": "",
            "description_tooltip": null,
            "layout": "IPY_MODEL_35cb9b4be78d4c7a9cdc9bbb4d293324",
            "placeholder": "​",
            "style": "IPY_MODEL_e9fc570c4bf643a68df7bd5ee8bd19e9",
            "value": "100%"
          }
        },
        "726e1c65247b4c6194d593b3a558b5f1": {
          "model_module": "@jupyter-widgets/controls",
          "model_name": "FloatProgressModel",
          "model_module_version": "1.5.0",
          "state": {
            "_dom_classes": [],
            "_model_module": "@jupyter-widgets/controls",
            "_model_module_version": "1.5.0",
            "_model_name": "FloatProgressModel",
            "_view_count": null,
            "_view_module": "@jupyter-widgets/controls",
            "_view_module_version": "1.5.0",
            "_view_name": "ProgressView",
            "bar_style": "success",
            "description": "",
            "description_tooltip": null,
            "layout": "IPY_MODEL_b485779a348341a2a5b29a7715483a52",
            "max": 472,
            "min": 0,
            "orientation": "horizontal",
            "style": "IPY_MODEL_1567169751f14f8e9a2ccdb9ffb549a3",
            "value": 472
          }
        },
        "62e441abc87449329ec1b934a61dddcf": {
          "model_module": "@jupyter-widgets/controls",
          "model_name": "HTMLModel",
          "model_module_version": "1.5.0",
          "state": {
            "_dom_classes": [],
            "_model_module": "@jupyter-widgets/controls",
            "_model_module_version": "1.5.0",
            "_model_name": "HTMLModel",
            "_view_count": null,
            "_view_module": "@jupyter-widgets/controls",
            "_view_module_version": "1.5.0",
            "_view_name": "HTMLView",
            "description": "",
            "description_tooltip": null,
            "layout": "IPY_MODEL_30e3bbb5b1ff4542b6507b1562f46d57",
            "placeholder": "​",
            "style": "IPY_MODEL_3f142ff341fc428ca6b9715375aba838",
            "value": " 472/472 [00:00&lt;00:00, 2312.60ex/s]"
          }
        },
        "8ccbac1ff67a48cc8ea88547ea5e9b9f": {
          "model_module": "@jupyter-widgets/base",
          "model_name": "LayoutModel",
          "model_module_version": "1.2.0",
          "state": {
            "_model_module": "@jupyter-widgets/base",
            "_model_module_version": "1.2.0",
            "_model_name": "LayoutModel",
            "_view_count": null,
            "_view_module": "@jupyter-widgets/base",
            "_view_module_version": "1.2.0",
            "_view_name": "LayoutView",
            "align_content": null,
            "align_items": null,
            "align_self": null,
            "border": null,
            "bottom": null,
            "display": null,
            "flex": null,
            "flex_flow": null,
            "grid_area": null,
            "grid_auto_columns": null,
            "grid_auto_flow": null,
            "grid_auto_rows": null,
            "grid_column": null,
            "grid_gap": null,
            "grid_row": null,
            "grid_template_areas": null,
            "grid_template_columns": null,
            "grid_template_rows": null,
            "height": null,
            "justify_content": null,
            "justify_items": null,
            "left": null,
            "margin": null,
            "max_height": null,
            "max_width": null,
            "min_height": null,
            "min_width": null,
            "object_fit": null,
            "object_position": null,
            "order": null,
            "overflow": null,
            "overflow_x": null,
            "overflow_y": null,
            "padding": null,
            "right": null,
            "top": null,
            "visibility": null,
            "width": null
          }
        },
        "35cb9b4be78d4c7a9cdc9bbb4d293324": {
          "model_module": "@jupyter-widgets/base",
          "model_name": "LayoutModel",
          "model_module_version": "1.2.0",
          "state": {
            "_model_module": "@jupyter-widgets/base",
            "_model_module_version": "1.2.0",
            "_model_name": "LayoutModel",
            "_view_count": null,
            "_view_module": "@jupyter-widgets/base",
            "_view_module_version": "1.2.0",
            "_view_name": "LayoutView",
            "align_content": null,
            "align_items": null,
            "align_self": null,
            "border": null,
            "bottom": null,
            "display": null,
            "flex": null,
            "flex_flow": null,
            "grid_area": null,
            "grid_auto_columns": null,
            "grid_auto_flow": null,
            "grid_auto_rows": null,
            "grid_column": null,
            "grid_gap": null,
            "grid_row": null,
            "grid_template_areas": null,
            "grid_template_columns": null,
            "grid_template_rows": null,
            "height": null,
            "justify_content": null,
            "justify_items": null,
            "left": null,
            "margin": null,
            "max_height": null,
            "max_width": null,
            "min_height": null,
            "min_width": null,
            "object_fit": null,
            "object_position": null,
            "order": null,
            "overflow": null,
            "overflow_x": null,
            "overflow_y": null,
            "padding": null,
            "right": null,
            "top": null,
            "visibility": null,
            "width": null
          }
        },
        "e9fc570c4bf643a68df7bd5ee8bd19e9": {
          "model_module": "@jupyter-widgets/controls",
          "model_name": "DescriptionStyleModel",
          "model_module_version": "1.5.0",
          "state": {
            "_model_module": "@jupyter-widgets/controls",
            "_model_module_version": "1.5.0",
            "_model_name": "DescriptionStyleModel",
            "_view_count": null,
            "_view_module": "@jupyter-widgets/base",
            "_view_module_version": "1.2.0",
            "_view_name": "StyleView",
            "description_width": ""
          }
        },
        "b485779a348341a2a5b29a7715483a52": {
          "model_module": "@jupyter-widgets/base",
          "model_name": "LayoutModel",
          "model_module_version": "1.2.0",
          "state": {
            "_model_module": "@jupyter-widgets/base",
            "_model_module_version": "1.2.0",
            "_model_name": "LayoutModel",
            "_view_count": null,
            "_view_module": "@jupyter-widgets/base",
            "_view_module_version": "1.2.0",
            "_view_name": "LayoutView",
            "align_content": null,
            "align_items": null,
            "align_self": null,
            "border": null,
            "bottom": null,
            "display": null,
            "flex": null,
            "flex_flow": null,
            "grid_area": null,
            "grid_auto_columns": null,
            "grid_auto_flow": null,
            "grid_auto_rows": null,
            "grid_column": null,
            "grid_gap": null,
            "grid_row": null,
            "grid_template_areas": null,
            "grid_template_columns": null,
            "grid_template_rows": null,
            "height": null,
            "justify_content": null,
            "justify_items": null,
            "left": null,
            "margin": null,
            "max_height": null,
            "max_width": null,
            "min_height": null,
            "min_width": null,
            "object_fit": null,
            "object_position": null,
            "order": null,
            "overflow": null,
            "overflow_x": null,
            "overflow_y": null,
            "padding": null,
            "right": null,
            "top": null,
            "visibility": null,
            "width": null
          }
        },
        "1567169751f14f8e9a2ccdb9ffb549a3": {
          "model_module": "@jupyter-widgets/controls",
          "model_name": "ProgressStyleModel",
          "model_module_version": "1.5.0",
          "state": {
            "_model_module": "@jupyter-widgets/controls",
            "_model_module_version": "1.5.0",
            "_model_name": "ProgressStyleModel",
            "_view_count": null,
            "_view_module": "@jupyter-widgets/base",
            "_view_module_version": "1.2.0",
            "_view_name": "StyleView",
            "bar_color": null,
            "description_width": ""
          }
        },
        "30e3bbb5b1ff4542b6507b1562f46d57": {
          "model_module": "@jupyter-widgets/base",
          "model_name": "LayoutModel",
          "model_module_version": "1.2.0",
          "state": {
            "_model_module": "@jupyter-widgets/base",
            "_model_module_version": "1.2.0",
            "_model_name": "LayoutModel",
            "_view_count": null,
            "_view_module": "@jupyter-widgets/base",
            "_view_module_version": "1.2.0",
            "_view_name": "LayoutView",
            "align_content": null,
            "align_items": null,
            "align_self": null,
            "border": null,
            "bottom": null,
            "display": null,
            "flex": null,
            "flex_flow": null,
            "grid_area": null,
            "grid_auto_columns": null,
            "grid_auto_flow": null,
            "grid_auto_rows": null,
            "grid_column": null,
            "grid_gap": null,
            "grid_row": null,
            "grid_template_areas": null,
            "grid_template_columns": null,
            "grid_template_rows": null,
            "height": null,
            "justify_content": null,
            "justify_items": null,
            "left": null,
            "margin": null,
            "max_height": null,
            "max_width": null,
            "min_height": null,
            "min_width": null,
            "object_fit": null,
            "object_position": null,
            "order": null,
            "overflow": null,
            "overflow_x": null,
            "overflow_y": null,
            "padding": null,
            "right": null,
            "top": null,
            "visibility": null,
            "width": null
          }
        },
        "3f142ff341fc428ca6b9715375aba838": {
          "model_module": "@jupyter-widgets/controls",
          "model_name": "DescriptionStyleModel",
          "model_module_version": "1.5.0",
          "state": {
            "_model_module": "@jupyter-widgets/controls",
            "_model_module_version": "1.5.0",
            "_model_name": "DescriptionStyleModel",
            "_view_count": null,
            "_view_module": "@jupyter-widgets/base",
            "_view_module_version": "1.2.0",
            "_view_name": "StyleView",
            "description_width": ""
          }
        },
        "e96bf8ff75d648c494f3dd17ffb593b5": {
          "model_module": "@jupyter-widgets/controls",
          "model_name": "HBoxModel",
          "model_module_version": "1.5.0",
          "state": {
            "_dom_classes": [],
            "_model_module": "@jupyter-widgets/controls",
            "_model_module_version": "1.5.0",
            "_model_name": "HBoxModel",
            "_view_count": null,
            "_view_module": "@jupyter-widgets/controls",
            "_view_module_version": "1.5.0",
            "_view_name": "HBoxView",
            "box_style": "",
            "children": [
              "IPY_MODEL_640c290b63a445e2998241bba7d3db44",
              "IPY_MODEL_ec47ef06f35e4777b98e2ba36e41b7cf",
              "IPY_MODEL_9946abef47a3468c807740cb2e6db0c2"
            ],
            "layout": "IPY_MODEL_21b0b4510a1442c3a6967b38a59ab702"
          }
        },
        "640c290b63a445e2998241bba7d3db44": {
          "model_module": "@jupyter-widgets/controls",
          "model_name": "HTMLModel",
          "model_module_version": "1.5.0",
          "state": {
            "_dom_classes": [],
            "_model_module": "@jupyter-widgets/controls",
            "_model_module_version": "1.5.0",
            "_model_name": "HTMLModel",
            "_view_count": null,
            "_view_module": "@jupyter-widgets/controls",
            "_view_module_version": "1.5.0",
            "_view_name": "HTMLView",
            "description": "",
            "description_tooltip": null,
            "layout": "IPY_MODEL_be385f1485f446dd9e80c82f4753d800",
            "placeholder": "​",
            "style": "IPY_MODEL_bf18807a3b2f40729bfff746a0679aad",
            "value": "100%"
          }
        },
        "ec47ef06f35e4777b98e2ba36e41b7cf": {
          "model_module": "@jupyter-widgets/controls",
          "model_name": "FloatProgressModel",
          "model_module_version": "1.5.0",
          "state": {
            "_dom_classes": [],
            "_model_module": "@jupyter-widgets/controls",
            "_model_module_version": "1.5.0",
            "_model_name": "FloatProgressModel",
            "_view_count": null,
            "_view_module": "@jupyter-widgets/controls",
            "_view_module_version": "1.5.0",
            "_view_name": "ProgressView",
            "bar_style": "success",
            "description": "",
            "description_tooltip": null,
            "layout": "IPY_MODEL_2e199054eda14ca7b50d88bdbfb08330",
            "max": 472,
            "min": 0,
            "orientation": "horizontal",
            "style": "IPY_MODEL_f86286e94f5c43208adba41807187ce2",
            "value": 472
          }
        },
        "9946abef47a3468c807740cb2e6db0c2": {
          "model_module": "@jupyter-widgets/controls",
          "model_name": "HTMLModel",
          "model_module_version": "1.5.0",
          "state": {
            "_dom_classes": [],
            "_model_module": "@jupyter-widgets/controls",
            "_model_module_version": "1.5.0",
            "_model_name": "HTMLModel",
            "_view_count": null,
            "_view_module": "@jupyter-widgets/controls",
            "_view_module_version": "1.5.0",
            "_view_name": "HTMLView",
            "description": "",
            "description_tooltip": null,
            "layout": "IPY_MODEL_a1a997969bc74ddf9c6aa3c43f77efc4",
            "placeholder": "​",
            "style": "IPY_MODEL_88efb204e79e47c48873ab2a0478a259",
            "value": " 472/472 [04:56&lt;00:00,  3.37ex/s]"
          }
        },
        "21b0b4510a1442c3a6967b38a59ab702": {
          "model_module": "@jupyter-widgets/base",
          "model_name": "LayoutModel",
          "model_module_version": "1.2.0",
          "state": {
            "_model_module": "@jupyter-widgets/base",
            "_model_module_version": "1.2.0",
            "_model_name": "LayoutModel",
            "_view_count": null,
            "_view_module": "@jupyter-widgets/base",
            "_view_module_version": "1.2.0",
            "_view_name": "LayoutView",
            "align_content": null,
            "align_items": null,
            "align_self": null,
            "border": null,
            "bottom": null,
            "display": null,
            "flex": null,
            "flex_flow": null,
            "grid_area": null,
            "grid_auto_columns": null,
            "grid_auto_flow": null,
            "grid_auto_rows": null,
            "grid_column": null,
            "grid_gap": null,
            "grid_row": null,
            "grid_template_areas": null,
            "grid_template_columns": null,
            "grid_template_rows": null,
            "height": null,
            "justify_content": null,
            "justify_items": null,
            "left": null,
            "margin": null,
            "max_height": null,
            "max_width": null,
            "min_height": null,
            "min_width": null,
            "object_fit": null,
            "object_position": null,
            "order": null,
            "overflow": null,
            "overflow_x": null,
            "overflow_y": null,
            "padding": null,
            "right": null,
            "top": null,
            "visibility": null,
            "width": null
          }
        },
        "be385f1485f446dd9e80c82f4753d800": {
          "model_module": "@jupyter-widgets/base",
          "model_name": "LayoutModel",
          "model_module_version": "1.2.0",
          "state": {
            "_model_module": "@jupyter-widgets/base",
            "_model_module_version": "1.2.0",
            "_model_name": "LayoutModel",
            "_view_count": null,
            "_view_module": "@jupyter-widgets/base",
            "_view_module_version": "1.2.0",
            "_view_name": "LayoutView",
            "align_content": null,
            "align_items": null,
            "align_self": null,
            "border": null,
            "bottom": null,
            "display": null,
            "flex": null,
            "flex_flow": null,
            "grid_area": null,
            "grid_auto_columns": null,
            "grid_auto_flow": null,
            "grid_auto_rows": null,
            "grid_column": null,
            "grid_gap": null,
            "grid_row": null,
            "grid_template_areas": null,
            "grid_template_columns": null,
            "grid_template_rows": null,
            "height": null,
            "justify_content": null,
            "justify_items": null,
            "left": null,
            "margin": null,
            "max_height": null,
            "max_width": null,
            "min_height": null,
            "min_width": null,
            "object_fit": null,
            "object_position": null,
            "order": null,
            "overflow": null,
            "overflow_x": null,
            "overflow_y": null,
            "padding": null,
            "right": null,
            "top": null,
            "visibility": null,
            "width": null
          }
        },
        "bf18807a3b2f40729bfff746a0679aad": {
          "model_module": "@jupyter-widgets/controls",
          "model_name": "DescriptionStyleModel",
          "model_module_version": "1.5.0",
          "state": {
            "_model_module": "@jupyter-widgets/controls",
            "_model_module_version": "1.5.0",
            "_model_name": "DescriptionStyleModel",
            "_view_count": null,
            "_view_module": "@jupyter-widgets/base",
            "_view_module_version": "1.2.0",
            "_view_name": "StyleView",
            "description_width": ""
          }
        },
        "2e199054eda14ca7b50d88bdbfb08330": {
          "model_module": "@jupyter-widgets/base",
          "model_name": "LayoutModel",
          "model_module_version": "1.2.0",
          "state": {
            "_model_module": "@jupyter-widgets/base",
            "_model_module_version": "1.2.0",
            "_model_name": "LayoutModel",
            "_view_count": null,
            "_view_module": "@jupyter-widgets/base",
            "_view_module_version": "1.2.0",
            "_view_name": "LayoutView",
            "align_content": null,
            "align_items": null,
            "align_self": null,
            "border": null,
            "bottom": null,
            "display": null,
            "flex": null,
            "flex_flow": null,
            "grid_area": null,
            "grid_auto_columns": null,
            "grid_auto_flow": null,
            "grid_auto_rows": null,
            "grid_column": null,
            "grid_gap": null,
            "grid_row": null,
            "grid_template_areas": null,
            "grid_template_columns": null,
            "grid_template_rows": null,
            "height": null,
            "justify_content": null,
            "justify_items": null,
            "left": null,
            "margin": null,
            "max_height": null,
            "max_width": null,
            "min_height": null,
            "min_width": null,
            "object_fit": null,
            "object_position": null,
            "order": null,
            "overflow": null,
            "overflow_x": null,
            "overflow_y": null,
            "padding": null,
            "right": null,
            "top": null,
            "visibility": null,
            "width": null
          }
        },
        "f86286e94f5c43208adba41807187ce2": {
          "model_module": "@jupyter-widgets/controls",
          "model_name": "ProgressStyleModel",
          "model_module_version": "1.5.0",
          "state": {
            "_model_module": "@jupyter-widgets/controls",
            "_model_module_version": "1.5.0",
            "_model_name": "ProgressStyleModel",
            "_view_count": null,
            "_view_module": "@jupyter-widgets/base",
            "_view_module_version": "1.2.0",
            "_view_name": "StyleView",
            "bar_color": null,
            "description_width": ""
          }
        },
        "a1a997969bc74ddf9c6aa3c43f77efc4": {
          "model_module": "@jupyter-widgets/base",
          "model_name": "LayoutModel",
          "model_module_version": "1.2.0",
          "state": {
            "_model_module": "@jupyter-widgets/base",
            "_model_module_version": "1.2.0",
            "_model_name": "LayoutModel",
            "_view_count": null,
            "_view_module": "@jupyter-widgets/base",
            "_view_module_version": "1.2.0",
            "_view_name": "LayoutView",
            "align_content": null,
            "align_items": null,
            "align_self": null,
            "border": null,
            "bottom": null,
            "display": null,
            "flex": null,
            "flex_flow": null,
            "grid_area": null,
            "grid_auto_columns": null,
            "grid_auto_flow": null,
            "grid_auto_rows": null,
            "grid_column": null,
            "grid_gap": null,
            "grid_row": null,
            "grid_template_areas": null,
            "grid_template_columns": null,
            "grid_template_rows": null,
            "height": null,
            "justify_content": null,
            "justify_items": null,
            "left": null,
            "margin": null,
            "max_height": null,
            "max_width": null,
            "min_height": null,
            "min_width": null,
            "object_fit": null,
            "object_position": null,
            "order": null,
            "overflow": null,
            "overflow_x": null,
            "overflow_y": null,
            "padding": null,
            "right": null,
            "top": null,
            "visibility": null,
            "width": null
          }
        },
        "88efb204e79e47c48873ab2a0478a259": {
          "model_module": "@jupyter-widgets/controls",
          "model_name": "DescriptionStyleModel",
          "model_module_version": "1.5.0",
          "state": {
            "_model_module": "@jupyter-widgets/controls",
            "_model_module_version": "1.5.0",
            "_model_name": "DescriptionStyleModel",
            "_view_count": null,
            "_view_module": "@jupyter-widgets/base",
            "_view_module_version": "1.2.0",
            "_view_name": "StyleView",
            "description_width": ""
          }
        },
        "65a5a5c1164e475093cbe681e3fe9698": {
          "model_module": "@jupyter-widgets/controls",
          "model_name": "HBoxModel",
          "model_module_version": "1.5.0",
          "state": {
            "_dom_classes": [],
            "_model_module": "@jupyter-widgets/controls",
            "_model_module_version": "1.5.0",
            "_model_name": "HBoxModel",
            "_view_count": null,
            "_view_module": "@jupyter-widgets/controls",
            "_view_module_version": "1.5.0",
            "_view_name": "HBoxView",
            "box_style": "",
            "children": [
              "IPY_MODEL_8ac9d7da2638429aa05d0f2fb777e15b",
              "IPY_MODEL_fcdbc214d6484681b46bf3f12d57b686",
              "IPY_MODEL_08c301deff244680a1bba668f309d8b6"
            ],
            "layout": "IPY_MODEL_91fa259ba1da4c3f84a030b76b63c833"
          }
        },
        "8ac9d7da2638429aa05d0f2fb777e15b": {
          "model_module": "@jupyter-widgets/controls",
          "model_name": "HTMLModel",
          "model_module_version": "1.5.0",
          "state": {
            "_dom_classes": [],
            "_model_module": "@jupyter-widgets/controls",
            "_model_module_version": "1.5.0",
            "_model_name": "HTMLModel",
            "_view_count": null,
            "_view_module": "@jupyter-widgets/controls",
            "_view_module_version": "1.5.0",
            "_view_name": "HTMLView",
            "description": "",
            "description_tooltip": null,
            "layout": "IPY_MODEL_f04567c5e7454873b864221ba5f7404a",
            "placeholder": "​",
            "style": "IPY_MODEL_b3934712acc4432a9a85d92c0e21311c",
            "value": "100%"
          }
        },
        "fcdbc214d6484681b46bf3f12d57b686": {
          "model_module": "@jupyter-widgets/controls",
          "model_name": "FloatProgressModel",
          "model_module_version": "1.5.0",
          "state": {
            "_dom_classes": [],
            "_model_module": "@jupyter-widgets/controls",
            "_model_module_version": "1.5.0",
            "_model_name": "FloatProgressModel",
            "_view_count": null,
            "_view_module": "@jupyter-widgets/controls",
            "_view_module_version": "1.5.0",
            "_view_name": "ProgressView",
            "bar_style": "success",
            "description": "",
            "description_tooltip": null,
            "layout": "IPY_MODEL_fdfe0c5b32ed4d3c81a2bf21c3bbf84a",
            "max": 1,
            "min": 0,
            "orientation": "horizontal",
            "style": "IPY_MODEL_9fe3f6cce8024274b65b659afe3ec968",
            "value": 1
          }
        },
        "08c301deff244680a1bba668f309d8b6": {
          "model_module": "@jupyter-widgets/controls",
          "model_name": "HTMLModel",
          "model_module_version": "1.5.0",
          "state": {
            "_dom_classes": [],
            "_model_module": "@jupyter-widgets/controls",
            "_model_module_version": "1.5.0",
            "_model_name": "HTMLModel",
            "_view_count": null,
            "_view_module": "@jupyter-widgets/controls",
            "_view_module_version": "1.5.0",
            "_view_name": "HTMLView",
            "description": "",
            "description_tooltip": null,
            "layout": "IPY_MODEL_36493b85a7b54971912d796fab547cff",
            "placeholder": "​",
            "style": "IPY_MODEL_9308df3efa2b417cafadae1663031c4c",
            "value": " 1/1 [00:00&lt;00:00, 22.04it/s]"
          }
        },
        "91fa259ba1da4c3f84a030b76b63c833": {
          "model_module": "@jupyter-widgets/base",
          "model_name": "LayoutModel",
          "model_module_version": "1.2.0",
          "state": {
            "_model_module": "@jupyter-widgets/base",
            "_model_module_version": "1.2.0",
            "_model_name": "LayoutModel",
            "_view_count": null,
            "_view_module": "@jupyter-widgets/base",
            "_view_module_version": "1.2.0",
            "_view_name": "LayoutView",
            "align_content": null,
            "align_items": null,
            "align_self": null,
            "border": null,
            "bottom": null,
            "display": null,
            "flex": null,
            "flex_flow": null,
            "grid_area": null,
            "grid_auto_columns": null,
            "grid_auto_flow": null,
            "grid_auto_rows": null,
            "grid_column": null,
            "grid_gap": null,
            "grid_row": null,
            "grid_template_areas": null,
            "grid_template_columns": null,
            "grid_template_rows": null,
            "height": null,
            "justify_content": null,
            "justify_items": null,
            "left": null,
            "margin": null,
            "max_height": null,
            "max_width": null,
            "min_height": null,
            "min_width": null,
            "object_fit": null,
            "object_position": null,
            "order": null,
            "overflow": null,
            "overflow_x": null,
            "overflow_y": null,
            "padding": null,
            "right": null,
            "top": null,
            "visibility": null,
            "width": null
          }
        },
        "f04567c5e7454873b864221ba5f7404a": {
          "model_module": "@jupyter-widgets/base",
          "model_name": "LayoutModel",
          "model_module_version": "1.2.0",
          "state": {
            "_model_module": "@jupyter-widgets/base",
            "_model_module_version": "1.2.0",
            "_model_name": "LayoutModel",
            "_view_count": null,
            "_view_module": "@jupyter-widgets/base",
            "_view_module_version": "1.2.0",
            "_view_name": "LayoutView",
            "align_content": null,
            "align_items": null,
            "align_self": null,
            "border": null,
            "bottom": null,
            "display": null,
            "flex": null,
            "flex_flow": null,
            "grid_area": null,
            "grid_auto_columns": null,
            "grid_auto_flow": null,
            "grid_auto_rows": null,
            "grid_column": null,
            "grid_gap": null,
            "grid_row": null,
            "grid_template_areas": null,
            "grid_template_columns": null,
            "grid_template_rows": null,
            "height": null,
            "justify_content": null,
            "justify_items": null,
            "left": null,
            "margin": null,
            "max_height": null,
            "max_width": null,
            "min_height": null,
            "min_width": null,
            "object_fit": null,
            "object_position": null,
            "order": null,
            "overflow": null,
            "overflow_x": null,
            "overflow_y": null,
            "padding": null,
            "right": null,
            "top": null,
            "visibility": null,
            "width": null
          }
        },
        "b3934712acc4432a9a85d92c0e21311c": {
          "model_module": "@jupyter-widgets/controls",
          "model_name": "DescriptionStyleModel",
          "model_module_version": "1.5.0",
          "state": {
            "_model_module": "@jupyter-widgets/controls",
            "_model_module_version": "1.5.0",
            "_model_name": "DescriptionStyleModel",
            "_view_count": null,
            "_view_module": "@jupyter-widgets/base",
            "_view_module_version": "1.2.0",
            "_view_name": "StyleView",
            "description_width": ""
          }
        },
        "fdfe0c5b32ed4d3c81a2bf21c3bbf84a": {
          "model_module": "@jupyter-widgets/base",
          "model_name": "LayoutModel",
          "model_module_version": "1.2.0",
          "state": {
            "_model_module": "@jupyter-widgets/base",
            "_model_module_version": "1.2.0",
            "_model_name": "LayoutModel",
            "_view_count": null,
            "_view_module": "@jupyter-widgets/base",
            "_view_module_version": "1.2.0",
            "_view_name": "LayoutView",
            "align_content": null,
            "align_items": null,
            "align_self": null,
            "border": null,
            "bottom": null,
            "display": null,
            "flex": null,
            "flex_flow": null,
            "grid_area": null,
            "grid_auto_columns": null,
            "grid_auto_flow": null,
            "grid_auto_rows": null,
            "grid_column": null,
            "grid_gap": null,
            "grid_row": null,
            "grid_template_areas": null,
            "grid_template_columns": null,
            "grid_template_rows": null,
            "height": null,
            "justify_content": null,
            "justify_items": null,
            "left": null,
            "margin": null,
            "max_height": null,
            "max_width": null,
            "min_height": null,
            "min_width": null,
            "object_fit": null,
            "object_position": null,
            "order": null,
            "overflow": null,
            "overflow_x": null,
            "overflow_y": null,
            "padding": null,
            "right": null,
            "top": null,
            "visibility": null,
            "width": null
          }
        },
        "9fe3f6cce8024274b65b659afe3ec968": {
          "model_module": "@jupyter-widgets/controls",
          "model_name": "ProgressStyleModel",
          "model_module_version": "1.5.0",
          "state": {
            "_model_module": "@jupyter-widgets/controls",
            "_model_module_version": "1.5.0",
            "_model_name": "ProgressStyleModel",
            "_view_count": null,
            "_view_module": "@jupyter-widgets/base",
            "_view_module_version": "1.2.0",
            "_view_name": "StyleView",
            "bar_color": null,
            "description_width": ""
          }
        },
        "36493b85a7b54971912d796fab547cff": {
          "model_module": "@jupyter-widgets/base",
          "model_name": "LayoutModel",
          "model_module_version": "1.2.0",
          "state": {
            "_model_module": "@jupyter-widgets/base",
            "_model_module_version": "1.2.0",
            "_model_name": "LayoutModel",
            "_view_count": null,
            "_view_module": "@jupyter-widgets/base",
            "_view_module_version": "1.2.0",
            "_view_name": "LayoutView",
            "align_content": null,
            "align_items": null,
            "align_self": null,
            "border": null,
            "bottom": null,
            "display": null,
            "flex": null,
            "flex_flow": null,
            "grid_area": null,
            "grid_auto_columns": null,
            "grid_auto_flow": null,
            "grid_auto_rows": null,
            "grid_column": null,
            "grid_gap": null,
            "grid_row": null,
            "grid_template_areas": null,
            "grid_template_columns": null,
            "grid_template_rows": null,
            "height": null,
            "justify_content": null,
            "justify_items": null,
            "left": null,
            "margin": null,
            "max_height": null,
            "max_width": null,
            "min_height": null,
            "min_width": null,
            "object_fit": null,
            "object_position": null,
            "order": null,
            "overflow": null,
            "overflow_x": null,
            "overflow_y": null,
            "padding": null,
            "right": null,
            "top": null,
            "visibility": null,
            "width": null
          }
        },
        "9308df3efa2b417cafadae1663031c4c": {
          "model_module": "@jupyter-widgets/controls",
          "model_name": "DescriptionStyleModel",
          "model_module_version": "1.5.0",
          "state": {
            "_model_module": "@jupyter-widgets/controls",
            "_model_module_version": "1.5.0",
            "_model_name": "DescriptionStyleModel",
            "_view_count": null,
            "_view_module": "@jupyter-widgets/base",
            "_view_module_version": "1.2.0",
            "_view_name": "StyleView",
            "description_width": ""
          }
        }
      }
    }
  },
  "nbformat": 4,
  "nbformat_minor": 0
}